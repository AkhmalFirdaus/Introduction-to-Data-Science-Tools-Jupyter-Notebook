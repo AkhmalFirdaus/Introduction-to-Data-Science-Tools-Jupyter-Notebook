{
 "cells": [
  {
   "cell_type": "code",
   "execution_count": 2,
   "id": "41319cc7-4180-4fa0-aeac-3bfb41a33bec",
   "metadata": {},
   "outputs": [
    {
     "name": "stdout",
     "output_type": "stream",
     "text": [
      "data science\n"
     ]
    }
   ],
   "source": [
    "print('data science')"
   ]
  },
  {
   "cell_type": "markdown",
   "id": "a5152971-d5c5-4106-887a-1d310c6394f8",
   "metadata": {},
   "source": [
    "WHy you should **not remember** the Codes:\n",
    "1. Open Source, 95% codes are available. Hnece, no need to memorize the codes. Understand it!\n",
    "2. Cheatsheet is there, compiling all Codes in a single Sheet as per name.\n"
   ]
  },
  {
   "cell_type": "markdown",
   "id": "6aa579b5-095e-4749-997e-c6d1d267112f",
   "metadata": {},
   "source": [
    "Basic Terms:\n",
    "- String: anything that is inside \"\" or ''.\n",
    "- Interger: number int"
   ]
  },
  {
   "cell_type": "code",
   "execution_count": 6,
   "id": "2e5b8995-949c-4ae7-aa9f-1a5623148e7e",
   "metadata": {},
   "outputs": [
    {
     "name": "stdout",
     "output_type": "stream",
     "text": [
      "2021\n",
      "88.8\n"
     ]
    }
   ],
   "source": [
    "print(2021)\n",
    "print(88.8)"
   ]
  },
  {
   "cell_type": "code",
   "execution_count": 13,
   "id": "470bf8fb-c465-48c9-b951-b6ce787060cf",
   "metadata": {},
   "outputs": [
    {
     "name": "stdout",
     "output_type": "stream",
     "text": [
      "30\n"
     ]
    }
   ],
   "source": [
    "a = 10  \n",
    "b = 20\n",
    "c = a+b\n",
    "print(c)"
   ]
  },
  {
   "cell_type": "markdown",
   "id": "88f4791d-1962-485c-ae7e-e5b57d76ace8",
   "metadata": {},
   "source": [
    "* *press Enter to make new line in a single cell*"
   ]
  },
  {
   "cell_type": "code",
   "execution_count": 14,
   "id": "33423cf9-0dfd-41a8-924b-4676d02c026a",
   "metadata": {},
   "outputs": [
    {
     "ename": "NameError",
     "evalue": "name 'C' is not defined",
     "output_type": "error",
     "traceback": [
      "\u001b[0;31m---------------------------------------------------------------------------\u001b[0m",
      "\u001b[0;31mNameError\u001b[0m                                 Traceback (most recent call last)",
      "\u001b[0;32m<ipython-input-14-085b32debabd>\u001b[0m in \u001b[0;36m<module>\u001b[0;34m\u001b[0m\n\u001b[0;32m----> 1\u001b[0;31m \u001b[0mprint\u001b[0m\u001b[0;34m(\u001b[0m\u001b[0mC\u001b[0m\u001b[0;34m)\u001b[0m\u001b[0;34m\u001b[0m\u001b[0;34m\u001b[0m\u001b[0m\n\u001b[0m",
      "\u001b[0;31mNameError\u001b[0m: name 'C' is not defined"
     ]
    }
   ],
   "source": [
    "print(C)"
   ]
  },
  {
   "cell_type": "markdown",
   "id": "ad5c025a-ee38-4fcd-9cac-7578f2304404",
   "metadata": {},
   "source": [
    "* *Codes are Case Sensitive*"
   ]
  },
  {
   "cell_type": "code",
   "execution_count": 18,
   "id": "4fccded4-f9eb-463b-9bbb-dc1e1141db29",
   "metadata": {},
   "outputs": [],
   "source": [
    "C = a+b"
   ]
  },
  {
   "cell_type": "code",
   "execution_count": 19,
   "id": "53048130-f41b-4b48-9940-a541577207ab",
   "metadata": {},
   "outputs": [
    {
     "name": "stdout",
     "output_type": "stream",
     "text": [
      "30\n"
     ]
    }
   ],
   "source": [
    "print(C)"
   ]
  },
  {
   "cell_type": "code",
   "execution_count": 20,
   "id": "3e261ace-be0f-4659-a337-301e0f9d9dee",
   "metadata": {},
   "outputs": [
    {
     "name": "stdout",
     "output_type": "stream",
     "text": [
      "70\n"
     ]
    }
   ],
   "source": [
    "a= 50\n",
    "c= a+b\n",
    "print(c)"
   ]
  },
  {
   "cell_type": "code",
   "execution_count": 22,
   "id": "28ce30d8-ab8a-4ac4-94af-ba0867c7af42",
   "metadata": {},
   "outputs": [
    {
     "name": "stdout",
     "output_type": "stream",
     "text": [
      "100\n"
     ]
    }
   ],
   "source": [
    "b = 50\n",
    "c = a+b\n",
    "print(c)"
   ]
  },
  {
   "cell_type": "code",
   "execution_count": 1,
   "id": "3ed83c34-b257-4cb9-9594-b5669fabe676",
   "metadata": {},
   "outputs": [
    {
     "data": {
      "text/html": [
       "<div>\n",
       "<style scoped>\n",
       "    .dataframe tbody tr th:only-of-type {\n",
       "        vertical-align: middle;\n",
       "    }\n",
       "\n",
       "    .dataframe tbody tr th {\n",
       "        vertical-align: top;\n",
       "    }\n",
       "\n",
       "    .dataframe thead th {\n",
       "        text-align: right;\n",
       "    }\n",
       "</style>\n",
       "<table border=\"1\" class=\"dataframe\">\n",
       "  <thead>\n",
       "    <tr style=\"text-align: right;\">\n",
       "      <th></th>\n",
       "      <th>Date</th>\n",
       "      <th>Open</th>\n",
       "      <th>High</th>\n",
       "      <th>Low</th>\n",
       "      <th>Close</th>\n",
       "      <th>Adj Close</th>\n",
       "      <th>Volume</th>\n",
       "    </tr>\n",
       "  </thead>\n",
       "  <tbody>\n",
       "    <tr>\n",
       "      <th>0</th>\n",
       "      <td>2015-12-16</td>\n",
       "      <td>119.800003</td>\n",
       "      <td>123.000000</td>\n",
       "      <td>118.089996</td>\n",
       "      <td>122.639999</td>\n",
       "      <td>122.639999</td>\n",
       "      <td>13181000</td>\n",
       "    </tr>\n",
       "    <tr>\n",
       "      <th>1</th>\n",
       "      <td>2015-12-17</td>\n",
       "      <td>123.970001</td>\n",
       "      <td>126.349998</td>\n",
       "      <td>122.419998</td>\n",
       "      <td>122.510002</td>\n",
       "      <td>122.510002</td>\n",
       "      <td>17284900</td>\n",
       "    </tr>\n",
       "    <tr>\n",
       "      <th>2</th>\n",
       "      <td>2015-12-18</td>\n",
       "      <td>120.849998</td>\n",
       "      <td>122.190002</td>\n",
       "      <td>117.919998</td>\n",
       "      <td>118.019997</td>\n",
       "      <td>118.019997</td>\n",
       "      <td>17948100</td>\n",
       "    </tr>\n",
       "    <tr>\n",
       "      <th>3</th>\n",
       "      <td>2015-12-21</td>\n",
       "      <td>119.510002</td>\n",
       "      <td>119.589996</td>\n",
       "      <td>115.660004</td>\n",
       "      <td>116.629997</td>\n",
       "      <td>116.629997</td>\n",
       "      <td>11670000</td>\n",
       "    </tr>\n",
       "    <tr>\n",
       "      <th>4</th>\n",
       "      <td>2015-12-22</td>\n",
       "      <td>117.300003</td>\n",
       "      <td>117.430000</td>\n",
       "      <td>114.860001</td>\n",
       "      <td>116.239998</td>\n",
       "      <td>116.239998</td>\n",
       "      <td>9689000</td>\n",
       "    </tr>\n",
       "  </tbody>\n",
       "</table>\n",
       "</div>"
      ],
      "text/plain": [
       "         Date        Open        High         Low       Close   Adj Close  \\\n",
       "0  2015-12-16  119.800003  123.000000  118.089996  122.639999  122.639999   \n",
       "1  2015-12-17  123.970001  126.349998  122.419998  122.510002  122.510002   \n",
       "2  2015-12-18  120.849998  122.190002  117.919998  118.019997  118.019997   \n",
       "3  2015-12-21  119.510002  119.589996  115.660004  116.629997  116.629997   \n",
       "4  2015-12-22  117.300003  117.430000  114.860001  116.239998  116.239998   \n",
       "\n",
       "     Volume  \n",
       "0  13181000  \n",
       "1  17284900  \n",
       "2  17948100  \n",
       "3  11670000  \n",
       "4   9689000  "
      ]
     },
     "execution_count": 1,
     "metadata": {},
     "output_type": "execute_result"
    }
   ],
   "source": [
    "import pandas as pd\n",
    "df = pd.read_csv(\"NFLX.csv\")\n",
    "df.head()"
   ]
  },
  {
   "cell_type": "markdown",
   "id": "b795f55c-42e4-45e0-91ef-5eafb32700b5",
   "metadata": {},
   "source": [
    "# Data Science (Main Header) #\n",
    "## Data Science (Sub Header) ##\n",
    "### Data Science (Sub Sub Header and so on..) ###"
   ]
  },
  {
   "cell_type": "markdown",
   "id": "df7d40db-876d-4708-a56a-bacca5ff0605",
   "metadata": {},
   "source": [
    "__Data Science (Empheshising/Bold)__"
   ]
  },
  {
   "cell_type": "markdown",
   "id": "414ea25b-3a14-4a98-adb7-1058b5c444c6",
   "metadata": {},
   "source": [
    "*Data Science (Itallic)*"
   ]
  },
  {
   "cell_type": "markdown",
   "id": "2ae7df0d-0824-4d5a-9f44-63bce1619a5c",
   "metadata": {},
   "source": [
    "![](Data_Science_Methodolog.jpg)"
   ]
  },
  {
   "cell_type": "markdown",
   "id": "78b2fe29-4509-4494-95e8-a32456f69bae",
   "metadata": {},
   "source": [
    "*Inserting image in Jupyter Notebook*"
   ]
  },
  {
   "cell_type": "markdown",
   "id": "1a7304c0-6a77-483e-95ee-21cb5e0f0ff6",
   "metadata": {},
   "source": [
    "[This is a clickable text that redirect to a link. Click here to visit my linkedin profile](https://www.linkedin.com/in/drobay)"
   ]
  }
 ],
 "metadata": {
  "kernelspec": {
   "display_name": "Python 3",
   "language": "python",
   "name": "python3"
  },
  "language_info": {
   "codemirror_mode": {
    "name": "ipython",
    "version": 3
   },
   "file_extension": ".py",
   "mimetype": "text/x-python",
   "name": "python",
   "nbconvert_exporter": "python",
   "pygments_lexer": "ipython3",
   "version": "3.7.8"
  }
 },
 "nbformat": 4,
 "nbformat_minor": 5
}
